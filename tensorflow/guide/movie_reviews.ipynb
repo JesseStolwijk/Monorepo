{
 "cells": [
  {
   "cell_type": "code",
   "execution_count": 1,
   "metadata": {},
   "outputs": [
    {
     "name": "stdout",
     "output_type": "stream",
     "text": [
      "1.13.1\n"
     ]
    }
   ],
   "source": [
    "from __future__ import absolute_import, division, print_function\n",
    "\n",
    "import tensorflow as tf\n",
    "from tensorflow import keras\n",
    "\n",
    "import numpy as np\n",
    "\n",
    "print(tf.__version__)"
   ]
  },
  {
   "cell_type": "code",
   "execution_count": 2,
   "metadata": {},
   "outputs": [
    {
     "data": {
      "text/plain": [
       "'Training entries: 25000, labels: 25000'"
      ]
     },
     "execution_count": 2,
     "metadata": {},
     "output_type": "execute_result"
    }
   ],
   "source": [
    "imdb = keras.datasets.imdb\n",
    "\n",
    "(train_data, train_labels), (test_data, test_labels) = imdb.load_data(num_words=10000)\n",
    "\n",
    "\"Training entries: {}, labels: {}\".format(len(train_data), len(train_labels))"
   ]
  },
  {
   "cell_type": "code",
   "execution_count": 3,
   "metadata": {},
   "outputs": [
    {
     "data": {
      "text/plain": [
       "[1,\n",
       " 14,\n",
       " 22,\n",
       " 16,\n",
       " 43,\n",
       " 530,\n",
       " 973,\n",
       " 1622,\n",
       " 1385,\n",
       " 65,\n",
       " 458,\n",
       " 4468,\n",
       " 66,\n",
       " 3941,\n",
       " 4,\n",
       " 173,\n",
       " 36,\n",
       " 256,\n",
       " 5,\n",
       " 25,\n",
       " 100,\n",
       " 43,\n",
       " 838,\n",
       " 112,\n",
       " 50,\n",
       " 670,\n",
       " 2,\n",
       " 9,\n",
       " 35,\n",
       " 480,\n",
       " 284,\n",
       " 5,\n",
       " 150,\n",
       " 4,\n",
       " 172,\n",
       " 112,\n",
       " 167,\n",
       " 2,\n",
       " 336,\n",
       " 385,\n",
       " 39,\n",
       " 4,\n",
       " 172,\n",
       " 4536,\n",
       " 1111,\n",
       " 17,\n",
       " 546,\n",
       " 38,\n",
       " 13,\n",
       " 447,\n",
       " 4,\n",
       " 192,\n",
       " 50,\n",
       " 16,\n",
       " 6,\n",
       " 147,\n",
       " 2025,\n",
       " 19,\n",
       " 14,\n",
       " 22,\n",
       " 4,\n",
       " 1920,\n",
       " 4613,\n",
       " 469,\n",
       " 4,\n",
       " 22,\n",
       " 71,\n",
       " 87,\n",
       " 12,\n",
       " 16,\n",
       " 43,\n",
       " 530,\n",
       " 38,\n",
       " 76,\n",
       " 15,\n",
       " 13,\n",
       " 1247,\n",
       " 4,\n",
       " 22,\n",
       " 17,\n",
       " 515,\n",
       " 17,\n",
       " 12,\n",
       " 16,\n",
       " 626,\n",
       " 18,\n",
       " 2,\n",
       " 5,\n",
       " 62,\n",
       " 386,\n",
       " 12,\n",
       " 8,\n",
       " 316,\n",
       " 8,\n",
       " 106,\n",
       " 5,\n",
       " 4,\n",
       " 2223,\n",
       " 5244,\n",
       " 16,\n",
       " 480,\n",
       " 66,\n",
       " 3785,\n",
       " 33,\n",
       " 4,\n",
       " 130,\n",
       " 12,\n",
       " 16,\n",
       " 38,\n",
       " 619,\n",
       " 5,\n",
       " 25,\n",
       " 124,\n",
       " 51,\n",
       " 36,\n",
       " 135,\n",
       " 48,\n",
       " 25,\n",
       " 1415,\n",
       " 33,\n",
       " 6,\n",
       " 22,\n",
       " 12,\n",
       " 215,\n",
       " 28,\n",
       " 77,\n",
       " 52,\n",
       " 5,\n",
       " 14,\n",
       " 407,\n",
       " 16,\n",
       " 82,\n",
       " 2,\n",
       " 8,\n",
       " 4,\n",
       " 107,\n",
       " 117,\n",
       " 5952,\n",
       " 15,\n",
       " 256,\n",
       " 4,\n",
       " 2,\n",
       " 7,\n",
       " 3766,\n",
       " 5,\n",
       " 723,\n",
       " 36,\n",
       " 71,\n",
       " 43,\n",
       " 530,\n",
       " 476,\n",
       " 26,\n",
       " 400,\n",
       " 317,\n",
       " 46,\n",
       " 7,\n",
       " 4,\n",
       " 2,\n",
       " 1029,\n",
       " 13,\n",
       " 104,\n",
       " 88,\n",
       " 4,\n",
       " 381,\n",
       " 15,\n",
       " 297,\n",
       " 98,\n",
       " 32,\n",
       " 2071,\n",
       " 56,\n",
       " 26,\n",
       " 141,\n",
       " 6,\n",
       " 194,\n",
       " 7486,\n",
       " 18,\n",
       " 4,\n",
       " 226,\n",
       " 22,\n",
       " 21,\n",
       " 134,\n",
       " 476,\n",
       " 26,\n",
       " 480,\n",
       " 5,\n",
       " 144,\n",
       " 30,\n",
       " 5535,\n",
       " 18,\n",
       " 51,\n",
       " 36,\n",
       " 28,\n",
       " 224,\n",
       " 92,\n",
       " 25,\n",
       " 104,\n",
       " 4,\n",
       " 226,\n",
       " 65,\n",
       " 16,\n",
       " 38,\n",
       " 1334,\n",
       " 88,\n",
       " 12,\n",
       " 16,\n",
       " 283,\n",
       " 5,\n",
       " 16,\n",
       " 4472,\n",
       " 113,\n",
       " 103,\n",
       " 32,\n",
       " 15,\n",
       " 16,\n",
       " 5345,\n",
       " 19,\n",
       " 178,\n",
       " 32]"
      ]
     },
     "execution_count": 3,
     "metadata": {},
     "output_type": "execute_result"
    }
   ],
   "source": [
    "train_data[0]"
   ]
  },
  {
   "cell_type": "code",
   "execution_count": 4,
   "metadata": {},
   "outputs": [
    {
     "data": {
      "text/plain": [
       "\"<START> this film was just brilliant casting location scenery story direction everyone's really suited the part they played and you could just imagine being there robert <UNK> is an amazing actor and now the same being director <UNK> father came from the same scottish island as myself so i loved the fact there was a real connection with this film the witty remarks throughout the film were great it was just brilliant so much that i bought the film as soon as it was released for <UNK> and would recommend it to everyone to watch and the fly fishing was amazing really cried at the end it was so sad and you know what they say if you cry at a film it must have been good and this definitely was also <UNK> to the two little boy's that played the <UNK> of norman and paul they were just brilliant children are often left out of the <UNK> list i think because the stars that play them all grown up are such a big profile for the whole film but these children are amazing and should be praised for what they have done don't you think the whole story was so lovely because it was true and was someone's life after all that was shared with us all\""
      ]
     },
     "execution_count": 4,
     "metadata": {},
     "output_type": "execute_result"
    }
   ],
   "source": [
    "# Int to word dict\n",
    "word_index = imdb.get_word_index()\n",
    "\n",
    "word_index = {k:(v+3) for k,v in word_index.items()} \n",
    "word_index[\"<PAD>\"] = 0\n",
    "word_index[\"<START>\"] = 1\n",
    "word_index[\"<UNK>\"] = 2  # unknown\n",
    "word_index[\"<UNUSED>\"] = 3\n",
    "\n",
    "reverse_word_index = dict([(value, key) for (key, value) in word_index.items()])\n",
    "\n",
    "def decode_review(text):\n",
    "    return ' '.join([reverse_word_index.get(i, '?') for i in text])\n",
    "\n",
    "decode_review(train_data[0])"
   ]
  },
  {
   "cell_type": "code",
   "execution_count": 5,
   "metadata": {},
   "outputs": [
    {
     "data": {
      "text/plain": [
       "(256, 256)"
      ]
     },
     "execution_count": 5,
     "metadata": {},
     "output_type": "execute_result"
    }
   ],
   "source": [
    "train_data = keras.preprocessing.sequence.pad_sequences(train_data,\n",
    "                                                        value=word_index[\"<PAD>\"],\n",
    "                                                        padding='post',\n",
    "                                                        maxlen=256)\n",
    "\n",
    "test_data = keras.preprocessing.sequence.pad_sequences(test_data,\n",
    "                                                       value=word_index[\"<PAD>\"],\n",
    "                                                       padding='post',\n",
    "                                                       maxlen=256)\n",
    "\n",
    "len(train_data[0]), len(train_data[1])"
   ]
  },
  {
   "cell_type": "code",
   "execution_count": 6,
   "metadata": {},
   "outputs": [
    {
     "name": "stdout",
     "output_type": "stream",
     "text": [
      "WARNING:tensorflow:From C:\\Users\\Jesse\\Anaconda3\\lib\\site-packages\\tensorflow\\python\\ops\\resource_variable_ops.py:435: colocate_with (from tensorflow.python.framework.ops) is deprecated and will be removed in a future version.\n",
      "Instructions for updating:\n",
      "Colocations handled automatically by placer.\n",
      "_________________________________________________________________\n",
      "Layer (type)                 Output Shape              Param #   \n",
      "=================================================================\n",
      "embedding (Embedding)        (None, None, 16)          160000    \n",
      "_________________________________________________________________\n",
      "global_average_pooling1d (Gl (None, 16)                0         \n",
      "_________________________________________________________________\n",
      "dense (Dense)                (None, 16)                272       \n",
      "_________________________________________________________________\n",
      "dense_1 (Dense)              (None, 1)                 17        \n",
      "=================================================================\n",
      "Total params: 160,289\n",
      "Trainable params: 160,289\n",
      "Non-trainable params: 0\n",
      "_________________________________________________________________\n"
     ]
    }
   ],
   "source": [
    "vocab_size = 10000\n",
    "\n",
    "model = keras.Sequential()\n",
    "\n",
    "# Embedding layer amps a integer encoded word toa dimension (batch, sequence, embedding)\n",
    "model.add(keras.layers.Embedding(vocab_size, 16))\n",
    "\n",
    "# Avarage the sequence dimension\n",
    "model.add(keras.layers.GlobalAveragePooling1D())\n",
    "\n",
    "# Avarage output is piped through a dense layer\n",
    "model.add(keras.layers.Dense(16, activation=tf.nn.relu))\n",
    "model.add(keras.layers.Dense(1, activation=tf.nn.sigmoid))\n",
    "\n",
    "model.summary()"
   ]
  },
  {
   "cell_type": "code",
   "execution_count": 7,
   "metadata": {},
   "outputs": [],
   "source": [
    "# We use binary_crossentropy loss function to calculate a probability\n",
    "# binary_crossentropy calculates the distance between probability functions\n",
    "model.compile(optimizer='adam',\n",
    "              loss='binary_crossentropy',\n",
    "              metrics=['acc'])"
   ]
  },
  {
   "cell_type": "code",
   "execution_count": 8,
   "metadata": {},
   "outputs": [],
   "source": [
    "# Validation set of 10,000 items\n",
    "x_val = train_data[:10000]\n",
    "partial_x_train = train_data[10000:]\n",
    "\n",
    "y_val = train_labels[:10000]\n",
    "partial_y_train = train_labels[10000:]"
   ]
  },
  {
   "cell_type": "code",
   "execution_count": 9,
   "metadata": {},
   "outputs": [
    {
     "name": "stdout",
     "output_type": "stream",
     "text": [
      "Train on 15000 samples, validate on 10000 samples\n",
      "WARNING:tensorflow:From C:\\Users\\Jesse\\Anaconda3\\lib\\site-packages\\tensorflow\\python\\ops\\math_ops.py:3066: to_int32 (from tensorflow.python.ops.math_ops) is deprecated and will be removed in a future version.\n",
      "Instructions for updating:\n",
      "Use tf.cast instead.\n",
      "Epoch 1/40\n",
      "15000/15000 [==============================] - 1s 63us/sample - loss: 0.6923 - acc: 0.5043 - val_loss: 0.6911 - val_acc: 0.4947\n",
      "Epoch 2/40\n",
      "15000/15000 [==============================] - 1s 44us/sample - loss: 0.6883 - acc: 0.5405 - val_loss: 0.6859 - val_acc: 0.5377\n",
      "Epoch 3/40\n",
      "15000/15000 [==============================] - 1s 45us/sample - loss: 0.6800 - acc: 0.6016 - val_loss: 0.6757 - val_acc: 0.6301\n",
      "Epoch 4/40\n",
      "15000/15000 [==============================] - 1s 46us/sample - loss: 0.6652 - acc: 0.6547 - val_loss: 0.6586 - val_acc: 0.7071\n",
      "Epoch 5/40\n",
      "15000/15000 [==============================] - 1s 40us/sample - loss: 0.6424 - acc: 0.7215 - val_loss: 0.6344 - val_acc: 0.7314\n",
      "Epoch 6/40\n",
      "15000/15000 [==============================] - 1s 38us/sample - loss: 0.6117 - acc: 0.7742 - val_loss: 0.6042 - val_acc: 0.7539\n",
      "Epoch 7/40\n",
      "15000/15000 [==============================] - 1s 42us/sample - loss: 0.5750 - acc: 0.8007 - val_loss: 0.5680 - val_acc: 0.8031\n",
      "Epoch 8/40\n",
      "15000/15000 [==============================] - 1s 43us/sample - loss: 0.5349 - acc: 0.8317 - val_loss: 0.5314 - val_acc: 0.8214\n",
      "Epoch 9/40\n",
      "15000/15000 [==============================] - 1s 43us/sample - loss: 0.4942 - acc: 0.8515 - val_loss: 0.4948 - val_acc: 0.8366\n",
      "Epoch 10/40\n",
      "15000/15000 [==============================] - 1s 44us/sample - loss: 0.4547 - acc: 0.8655 - val_loss: 0.4614 - val_acc: 0.8458\n",
      "Epoch 11/40\n",
      "15000/15000 [==============================] - 1s 40us/sample - loss: 0.4177 - acc: 0.8755 - val_loss: 0.4300 - val_acc: 0.8528\n",
      "Epoch 12/40\n",
      "15000/15000 [==============================] - 1s 42us/sample - loss: 0.3831 - acc: 0.8831 - val_loss: 0.4027 - val_acc: 0.8574\n",
      "Epoch 13/40\n",
      "15000/15000 [==============================] - 1s 40us/sample - loss: 0.3517 - acc: 0.8917 - val_loss: 0.3774 - val_acc: 0.8657\n",
      "Epoch 14/40\n",
      "15000/15000 [==============================] - 1s 40us/sample - loss: 0.3240 - acc: 0.8963 - val_loss: 0.3585 - val_acc: 0.8691\n",
      "Epoch 15/40\n",
      "15000/15000 [==============================] - 1s 40us/sample - loss: 0.3011 - acc: 0.9019 - val_loss: 0.3426 - val_acc: 0.8717\n",
      "Epoch 16/40\n",
      "15000/15000 [==============================] - 1s 39us/sample - loss: 0.2814 - acc: 0.9072 - val_loss: 0.3307 - val_acc: 0.8744\n",
      "Epoch 17/40\n",
      "15000/15000 [==============================] - 1s 42us/sample - loss: 0.2639 - acc: 0.9125 - val_loss: 0.3206 - val_acc: 0.8769\n",
      "Epoch 18/40\n",
      "15000/15000 [==============================] - 1s 40us/sample - loss: 0.2488 - acc: 0.9169 - val_loss: 0.3122 - val_acc: 0.8787\n",
      "Epoch 19/40\n",
      "15000/15000 [==============================] - 1s 41us/sample - loss: 0.2356 - acc: 0.9198 - val_loss: 0.3058 - val_acc: 0.8797\n",
      "Epoch 20/40\n",
      "15000/15000 [==============================] - 1s 42us/sample - loss: 0.2238 - acc: 0.9239 - val_loss: 0.3010 - val_acc: 0.8803\n",
      "Epoch 21/40\n",
      "15000/15000 [==============================] - 1s 41us/sample - loss: 0.2122 - acc: 0.9289 - val_loss: 0.2973 - val_acc: 0.8821\n",
      "Epoch 22/40\n",
      "15000/15000 [==============================] - 1s 40us/sample - loss: 0.2025 - acc: 0.9314 - val_loss: 0.2932 - val_acc: 0.8831\n",
      "Epoch 23/40\n",
      "15000/15000 [==============================] - 1s 41us/sample - loss: 0.1929 - acc: 0.9360 - val_loss: 0.2915 - val_acc: 0.8828\n",
      "Epoch 24/40\n",
      "15000/15000 [==============================] - 1s 40us/sample - loss: 0.1846 - acc: 0.9395 - val_loss: 0.2902 - val_acc: 0.8845\n",
      "Epoch 25/40\n",
      "15000/15000 [==============================] - 1s 42us/sample - loss: 0.1762 - acc: 0.9435 - val_loss: 0.2875 - val_acc: 0.8845\n",
      "Epoch 26/40\n",
      "15000/15000 [==============================] - 1s 47us/sample - loss: 0.1688 - acc: 0.9460 - val_loss: 0.2880 - val_acc: 0.8839\n",
      "Epoch 27/40\n",
      "15000/15000 [==============================] - 1s 43us/sample - loss: 0.1618 - acc: 0.9483 - val_loss: 0.2869 - val_acc: 0.8846\n",
      "Epoch 28/40\n",
      "15000/15000 [==============================] - 1s 42us/sample - loss: 0.1551 - acc: 0.9518 - val_loss: 0.2877 - val_acc: 0.8844\n",
      "Epoch 29/40\n",
      "15000/15000 [==============================] - 1s 44us/sample - loss: 0.1493 - acc: 0.9546 - val_loss: 0.2880 - val_acc: 0.8841\n",
      "Epoch 30/40\n",
      "15000/15000 [==============================] - 1s 42us/sample - loss: 0.1432 - acc: 0.9561 - val_loss: 0.2878 - val_acc: 0.8857\n",
      "Epoch 31/40\n",
      "15000/15000 [==============================] - 1s 39us/sample - loss: 0.1372 - acc: 0.9601 - val_loss: 0.2885 - val_acc: 0.8857\n",
      "Epoch 32/40\n",
      "15000/15000 [==============================] - 1s 39us/sample - loss: 0.1318 - acc: 0.9614 - val_loss: 0.2898 - val_acc: 0.8850\n",
      "Epoch 33/40\n",
      "15000/15000 [==============================] - 1s 42us/sample - loss: 0.1265 - acc: 0.9637 - val_loss: 0.2919 - val_acc: 0.8866\n",
      "Epoch 34/40\n",
      "15000/15000 [==============================] - 1s 41us/sample - loss: 0.1219 - acc: 0.9654 - val_loss: 0.2941 - val_acc: 0.8850\n",
      "Epoch 35/40\n",
      "15000/15000 [==============================] - 1s 39us/sample - loss: 0.1176 - acc: 0.9661 - val_loss: 0.2957 - val_acc: 0.8855\n",
      "Epoch 36/40\n",
      "15000/15000 [==============================] - 1s 46us/sample - loss: 0.1129 - acc: 0.9687 - val_loss: 0.2976 - val_acc: 0.8852\n",
      "Epoch 37/40\n",
      "15000/15000 [==============================] - 1s 44us/sample - loss: 0.1085 - acc: 0.9701 - val_loss: 0.3003 - val_acc: 0.8846\n",
      "Epoch 38/40\n",
      "15000/15000 [==============================] - 1s 42us/sample - loss: 0.1044 - acc: 0.9717 - val_loss: 0.3037 - val_acc: 0.8847\n",
      "Epoch 39/40\n",
      "15000/15000 [==============================] - 1s 45us/sample - loss: 0.1012 - acc: 0.9724 - val_loss: 0.3073 - val_acc: 0.8842\n",
      "Epoch 40/40\n",
      "15000/15000 [==============================] - 1s 52us/sample - loss: 0.0970 - acc: 0.9752 - val_loss: 0.3100 - val_acc: 0.8844\n"
     ]
    }
   ],
   "source": [
    "history = model.fit(partial_x_train,\n",
    "                    partial_y_train,\n",
    "                    epochs=40,\n",
    "                    batch_size=512,\n",
    "                    validation_data=(x_val, y_val),\n",
    "                    verbose=1)"
   ]
  },
  {
   "cell_type": "code",
   "execution_count": 10,
   "metadata": {},
   "outputs": [
    {
     "name": "stdout",
     "output_type": "stream",
     "text": [
      "25000/25000 [==============================] - 1s 30us/sample - loss: 0.3298 - acc: 0.8717\n"
     ]
    },
    {
     "data": {
      "text/plain": [
       "[0.3298406292819977, 0.87172]"
      ]
     },
     "execution_count": 10,
     "metadata": {},
     "output_type": "execute_result"
    }
   ],
   "source": [
    "results = model.evaluate(test_data, test_labels)\n",
    "\n",
    "results"
   ]
  },
  {
   "cell_type": "code",
   "execution_count": 11,
   "metadata": {},
   "outputs": [
    {
     "data": {
      "text/plain": [
       "dict_keys(['loss', 'acc', 'val_loss', 'val_acc'])"
      ]
     },
     "execution_count": 11,
     "metadata": {},
     "output_type": "execute_result"
    }
   ],
   "source": [
    "history_dict = history.history\n",
    "history_dict.keys()"
   ]
  },
  {
   "cell_type": "code",
   "execution_count": 12,
   "metadata": {},
   "outputs": [
    {
     "data": {
      "text/plain": [
       "<Figure size 640x480 with 1 Axes>"
      ]
     },
     "metadata": {},
     "output_type": "display_data"
    }
   ],
   "source": [
    "import matplotlib.pyplot as plt\n",
    "\n",
    "acc = history_dict['acc']\n",
    "val_acc = history_dict['val_acc']\n",
    "loss = history_dict['loss']\n",
    "val_loss = history_dict['val_loss']\n",
    "\n",
    "epochs = range(1, len(acc) + 1)\n",
    "\n",
    "# \"bo\" is for \"blue dot\"\n",
    "plt.plot(epochs, loss, 'bo', label='Training loss')\n",
    "# b is for \"solid blue line\"\n",
    "plt.plot(epochs, val_loss, 'b', label='Validation loss')\n",
    "plt.title('Training and validation loss')\n",
    "plt.xlabel('Epochs')\n",
    "plt.ylabel('Loss')\n",
    "plt.legend()\n",
    "\n",
    "plt.show()"
   ]
  },
  {
   "cell_type": "code",
   "execution_count": 13,
   "metadata": {},
   "outputs": [
    {
     "data": {
      "image/png": "[encoded data removed]",
      "text/plain": [
       "<Figure size 432x288 with 1 Axes>"
      ]
     },
     "metadata": {
      "needs_background": "light"
     },
     "output_type": "display_data"
    }
   ],
   "source": [
    "plt.clf()   # clear figure\n",
    "\n",
    "plt.plot(epochs, acc, 'bo', label='Training acc')\n",
    "plt.plot(epochs, val_acc, 'b', label='Validation acc')\n",
    "plt.title('Training and validation accuracy')\n",
    "plt.xlabel('Epochs')\n",
    "plt.ylabel('Accuracy')\n",
    "plt.legend()\n",
    "\n",
    "plt.show()"
   ]
  },
  {
   "cell_type": "code",
   "execution_count": 14,
   "metadata": {},
   "outputs": [
    {
     "data": {
      "text/plain": [
       "(array([[0.9956125]], dtype=float32), array([[0.18457216]], dtype=float32))"
      ]
     },
     "execution_count": 14,
     "metadata": {},
     "output_type": "execute_result"
    }
   ],
   "source": [
    "def encodeWord(word):\n",
    "    return word_index[word]\n",
    "\n",
    "positive_review = 'if you like gangsters and love dogs this movie is for you'.split()\n",
    "positive_review = list(map(encodeWord, positive_review))\n",
    "positive_review_prediction = model.predict([[positive_review]])\n",
    "\n",
    "negative_review = 'i hate this movie'.split()\n",
    "negative_review = list(map(encodeWord, negative_review))\n",
    "negative_review_prediction = model.predict([[negative_review]])\n",
    "\n",
    "(positive_review_prediction, negative_review_prediction)"
   ]
  },
  {
   "cell_type": "code",
   "execution_count": null,
   "metadata": {},
   "outputs": [],
   "source": []
  }
 ],
 "metadata": {
  "kernelspec": {
   "display_name": "Python 3",
   "language": "python",
   "name": "python3"
  },
  "language_info": {
   "codemirror_mode": {
    "name": "ipython",
    "version": 3
   },
   "file_extension": ".py",
   "mimetype": "text/x-python",
   "name": "python",
   "nbconvert_exporter": "python",
   "pygments_lexer": "ipython3",
   "version": "3.7.3"
  }
 },
 "nbformat": 4,
 "nbformat_minor": 2
}
